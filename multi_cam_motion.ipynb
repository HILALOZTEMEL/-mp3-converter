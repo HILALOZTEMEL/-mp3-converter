{
  "cells": [
    {
      "cell_type": "markdown",
      "metadata": {
        "id": "view-in-github",
        "colab_type": "text"
      },
      "source": [
        "<a href=\"https://colab.research.google.com/github/HILALOZTEMEL/-mp3-converter/blob/main/multi_cam_motion.ipynb\" target=\"_parent\"><img src=\"https://colab.research.google.com/assets/colab-badge.svg\" alt=\"Open In Colab\"/></a>"
      ]
    },
    {
      "cell_type": "code",
      "execution_count": null,
      "id": "71ff512a",
      "metadata": {
        "id": "71ff512a"
      },
      "outputs": [],
      "source": [
        "# import the necessary packages\n",
        "from __future__ import print_function\n",
        "#from pyimagesearch.basicmotiondetector import BasicMotionDetector\n",
        "from basicmotiondetector import BasicMotionDetector\n",
        "from imutils.video import VideoStream\n",
        "import numpy as np\n",
        "import datetime\n",
        "import imutils\n",
        "import time\n",
        "import cv2\n",
        "# initialize the video streams and allow them to warmup\n",
        "print(\"[INFO] starting cameras...\")\n",
        "webcam = VideoStream(src=0).start()\n",
        "picam = VideoStream(usePiCamera=True).start()\n",
        "time.sleep(2.0)\n",
        "# initialize the two motion detectors, along with the total\n",
        "# number of frames read\n",
        "camMotion = BasicMotionDetector()\n",
        "piMotion = BasicMotionDetector()\n",
        "total = 0\n",
        "# loop over frames from the video streams\n",
        "while True:\n",
        "    # initialize the list of frames that have been processed\n",
        "    frames = []\n",
        "    # loop over the frames and their respective motion detectors\n",
        "    for (stream, motion) in zip((webcam, picam), (camMotion, piMotion)):\n",
        "        # read the next frame from the video stream and resize\n",
        "        # it to have a maximum width of 400 pixels\n",
        "        frame = stream.read()\n",
        "        frame = imutils.resize(frame, width=400)\n",
        "        # convert the frame to grayscale, blur it slightly, update\n",
        "        # the motion detector\n",
        "        gray = cv2.cvtColor(frame, cv2.COLOR_BGR2GRAY)\n",
        "        gray = cv2.GaussianBlur(gray, (21, 21), 0)\n",
        "        locs = motion.update(gray)\n",
        "        # we should allow the motion detector to \"run\" for a bit\n",
        "        # and accumulate a set of frames to form a nice average\n",
        "        if total < 32:\n",
        "            frames.append(frame)\n",
        "            continue\n",
        "         # otherwise, check to see if motion was detected\n",
        "        if len(locs) > 0:\n",
        "                # initialize the minimum and maximum (x, y)-coordinates,\n",
        "                # respectively\n",
        "            (minX, minY) = (np.inf, np.inf)\n",
        "            (maxX, maxY) = (-np.inf, -np.inf)\n",
        "                # loop over the locations of motion and accumulate the\n",
        "                # minimum and maximum locations of the bounding boxes\n",
        "            for l in locs:\n",
        "                (x, y, w, h) = cv2.boundingRect(l)\n",
        "                (minX, maxX) = (min(minX, x), max(maxX, x + w))\n",
        "                (minY, maxY) = (min(minY, y), max(maxY, y + h))\n",
        "             # draw the bounding box\n",
        "            cv2.rectangle(frame, (minX, minY), (maxX, maxY),\n",
        "                (0, 0, 255), 3)\n",
        "\n",
        "        # update the frames list\n",
        "        frames.append(frame)\n",
        "    # increment the total number of frames read and grab the\n",
        "    # current timestamp\n",
        "    total += 1\n",
        "    timestamp = datetime.datetime.now()\n",
        "    ts = timestamp.strftime(\"%A %d %B %Y %I:%M:%S%p\")\n",
        "    # loop over the frames a second time\n",
        "    for (frame, name) in zip(frames, (\"Webcam\", \"Picamera\")):\n",
        "            # draw the timestamp on the frame and display it\n",
        "        cv2.putText(frame, ts, (10, frame.shape[0] - 10),\n",
        "        cv2.FONT_HERSHEY_SIMPLEX, 0.35, (0, 0, 255), 1)\n",
        "        cv2.imshow(name, frame)\n",
        "    # check to see if a key was pressed\n",
        "    key = cv2.waitKey(1) & 0xFF\n",
        "    # if the `q` key was pressed, break from the loop\n",
        "    if key == ord(\"q\"):\n",
        "        break\n",
        "# do a bit of cleanup\n",
        "print(\"[INFO] cleaning up...\")\n",
        "cv2.destroyAllWindows()\n",
        "webcam.stop()\n",
        "picam.stop()\n",
        ""
      ]
    },
    {
      "cell_type": "code",
      "execution_count": null,
      "id": "da7ed85c",
      "metadata": {
        "id": "da7ed85c"
      },
      "outputs": [],
      "source": []
    }
  ],
  "metadata": {
    "kernelspec": {
      "display_name": "Python 3",
      "language": "python",
      "name": "python3"
    },
    "language_info": {
      "codemirror_mode": {
        "name": "ipython",
        "version": 3
      },
      "file_extension": ".py",
      "mimetype": "text/x-python",
      "name": "python",
      "nbconvert_exporter": "python",
      "pygments_lexer": "ipython3",
      "version": "3.8.8"
    },
    "colab": {
      "provenance": [],
      "include_colab_link": true
    }
  },
  "nbformat": 4,
  "nbformat_minor": 5
}